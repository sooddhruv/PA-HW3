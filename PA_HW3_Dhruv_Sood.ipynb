{
  "nbformat": 4,
  "nbformat_minor": 0,
  "metadata": {
    "colab": {
      "provenance": [],
      "authorship_tag": "ABX9TyNzCfuFBVTCLf1bLfORgo0y",
      "include_colab_link": true
    },
    "kernelspec": {
      "name": "python3",
      "display_name": "Python 3"
    },
    "language_info": {
      "name": "python"
    }
  },
  "cells": [
    {
      "cell_type": "markdown",
      "metadata": {
        "id": "view-in-github",
        "colab_type": "text"
      },
      "source": [
        "<a href=\"https://colab.research.google.com/github/sooddhruv/PA-HW3/blob/main/PA_HW3_Dhruv_Sood.ipynb\" target=\"_parent\"><img src=\"https://colab.research.google.com/assets/colab-badge.svg\" alt=\"Open In Colab\"/></a>"
      ]
    },
    {
      "cell_type": "code",
      "execution_count": null,
      "metadata": {
        "id": "keP4pp-pX6Ue"
      },
      "outputs": [],
      "source": []
    },
    {
      "cell_type": "code",
      "source": [
        "import pandas as pd\n",
        "\n",
        "df = pd.read_csv('/content/Breast_Cancer_dataset.csv')\n"
      ],
      "metadata": {
        "id": "dzidd1WfX9Om"
      },
      "execution_count": null,
      "outputs": []
    },
    {
      "cell_type": "code",
      "source": [
        "\n",
        "df.head()\n",
        "\n",
        "# Check for data types and null values\n",
        "df.info()\n",
        "df.describe(include='all')\n"
      ],
      "metadata": {
        "colab": {
          "base_uri": "https://localhost:8080/",
          "height": 845
        },
        "id": "0NpJLwSoYEah",
        "outputId": "00322e4f-2590-4c77-ce99-2c79e437399a"
      },
      "execution_count": null,
      "outputs": [
        {
          "output_type": "stream",
          "name": "stdout",
          "text": [
            "<class 'pandas.core.frame.DataFrame'>\n",
            "RangeIndex: 4024 entries, 0 to 4023\n",
            "Data columns (total 16 columns):\n",
            " #   Column                  Non-Null Count  Dtype  \n",
            "---  ------                  --------------  -----  \n",
            " 0   Age                     3823 non-null   float64\n",
            " 1   Race                    3622 non-null   object \n",
            " 2   Marital Status          3703 non-null   object \n",
            " 3   T Stage                 4024 non-null   object \n",
            " 4   N Stage                 4024 non-null   object \n",
            " 5   6th Stage               4024 non-null   object \n",
            " 6   differentiate           4024 non-null   object \n",
            " 7   Grade                   4024 non-null   object \n",
            " 8   A Stage                 4024 non-null   object \n",
            " 9   Tumor Size              3622 non-null   float64\n",
            " 10  Estrogen Status         3823 non-null   object \n",
            " 11  Progesterone Status     4024 non-null   object \n",
            " 12  Regional Node Examined  3421 non-null   float64\n",
            " 13  Reginol Node Positive   4024 non-null   int64  \n",
            " 14  Survival Months         4024 non-null   int64  \n",
            " 15  Status                  4024 non-null   object \n",
            "dtypes: float64(3), int64(2), object(11)\n",
            "memory usage: 503.1+ KB\n"
          ]
        },
        {
          "output_type": "execute_result",
          "data": {
            "text/plain": [
              "                Age   Race Marital Status T Stage  N Stage 6th Stage  \\\n",
              "count   3823.000000   3622           3703     4024    4024      4024   \n",
              "unique          NaN      3              5        4       3         5   \n",
              "top             NaN  White        Married       T2      N1       IIA   \n",
              "freq            NaN   3069           2436     1786    2732      1305   \n",
              "mean      53.931467    NaN            NaN      NaN     NaN       NaN   \n",
              "std        8.972253    NaN            NaN      NaN     NaN       NaN   \n",
              "min       30.000000    NaN            NaN      NaN     NaN       NaN   \n",
              "25%       47.000000    NaN            NaN      NaN     NaN       NaN   \n",
              "50%       54.000000    NaN            NaN      NaN     NaN       NaN   \n",
              "75%       61.000000    NaN            NaN      NaN     NaN       NaN   \n",
              "max       69.000000    NaN            NaN      NaN     NaN       NaN   \n",
              "\n",
              "                    differentiate Grade   A Stage   Tumor Size  \\\n",
              "count                        4024  4024      4024  3622.000000   \n",
              "unique                          4     4         2          NaN   \n",
              "top     Moderately differentiated     2  Regional          NaN   \n",
              "freq                         2351  2351      3932          NaN   \n",
              "mean                          NaN   NaN       NaN    30.560188   \n",
              "std                           NaN   NaN       NaN    21.428535   \n",
              "min                           NaN   NaN       NaN     1.000000   \n",
              "25%                           NaN   NaN       NaN    16.000000   \n",
              "50%                           NaN   NaN       NaN    25.000000   \n",
              "75%                           NaN   NaN       NaN    38.000000   \n",
              "max                           NaN   NaN       NaN   140.000000   \n",
              "\n",
              "       Estrogen Status Progesterone Status  Regional Node Examined  \\\n",
              "count             3823                4024             3421.000000   \n",
              "unique               2                   2                     NaN   \n",
              "top           Positive            Positive                     NaN   \n",
              "freq              3567                3326                     NaN   \n",
              "mean               NaN                 NaN               14.351652   \n",
              "std                NaN                 NaN                8.170800   \n",
              "min                NaN                 NaN                1.000000   \n",
              "25%                NaN                 NaN                9.000000   \n",
              "50%                NaN                 NaN               14.000000   \n",
              "75%                NaN                 NaN               19.000000   \n",
              "max                NaN                 NaN               61.000000   \n",
              "\n",
              "        Reginol Node Positive  Survival Months Status  \n",
              "count             4024.000000      4024.000000   4024  \n",
              "unique                    NaN              NaN      2  \n",
              "top                       NaN              NaN  Alive  \n",
              "freq                      NaN              NaN   3408  \n",
              "mean                 4.158052        71.297962    NaN  \n",
              "std                  5.109331        22.921430    NaN  \n",
              "min                  1.000000         1.000000    NaN  \n",
              "25%                  1.000000        56.000000    NaN  \n",
              "50%                  2.000000        73.000000    NaN  \n",
              "75%                  5.000000        90.000000    NaN  \n",
              "max                 46.000000       107.000000    NaN  "
            ],
            "text/html": [
              "\n",
              "  <div id=\"df-6a883e02-53f5-4172-8768-85eac5a43444\" class=\"colab-df-container\">\n",
              "    <div>\n",
              "<style scoped>\n",
              "    .dataframe tbody tr th:only-of-type {\n",
              "        vertical-align: middle;\n",
              "    }\n",
              "\n",
              "    .dataframe tbody tr th {\n",
              "        vertical-align: top;\n",
              "    }\n",
              "\n",
              "    .dataframe thead th {\n",
              "        text-align: right;\n",
              "    }\n",
              "</style>\n",
              "<table border=\"1\" class=\"dataframe\">\n",
              "  <thead>\n",
              "    <tr style=\"text-align: right;\">\n",
              "      <th></th>\n",
              "      <th>Age</th>\n",
              "      <th>Race</th>\n",
              "      <th>Marital Status</th>\n",
              "      <th>T Stage</th>\n",
              "      <th>N Stage</th>\n",
              "      <th>6th Stage</th>\n",
              "      <th>differentiate</th>\n",
              "      <th>Grade</th>\n",
              "      <th>A Stage</th>\n",
              "      <th>Tumor Size</th>\n",
              "      <th>Estrogen Status</th>\n",
              "      <th>Progesterone Status</th>\n",
              "      <th>Regional Node Examined</th>\n",
              "      <th>Reginol Node Positive</th>\n",
              "      <th>Survival Months</th>\n",
              "      <th>Status</th>\n",
              "    </tr>\n",
              "  </thead>\n",
              "  <tbody>\n",
              "    <tr>\n",
              "      <th>count</th>\n",
              "      <td>3823.000000</td>\n",
              "      <td>3622</td>\n",
              "      <td>3703</td>\n",
              "      <td>4024</td>\n",
              "      <td>4024</td>\n",
              "      <td>4024</td>\n",
              "      <td>4024</td>\n",
              "      <td>4024</td>\n",
              "      <td>4024</td>\n",
              "      <td>3622.000000</td>\n",
              "      <td>3823</td>\n",
              "      <td>4024</td>\n",
              "      <td>3421.000000</td>\n",
              "      <td>4024.000000</td>\n",
              "      <td>4024.000000</td>\n",
              "      <td>4024</td>\n",
              "    </tr>\n",
              "    <tr>\n",
              "      <th>unique</th>\n",
              "      <td>NaN</td>\n",
              "      <td>3</td>\n",
              "      <td>5</td>\n",
              "      <td>4</td>\n",
              "      <td>3</td>\n",
              "      <td>5</td>\n",
              "      <td>4</td>\n",
              "      <td>4</td>\n",
              "      <td>2</td>\n",
              "      <td>NaN</td>\n",
              "      <td>2</td>\n",
              "      <td>2</td>\n",
              "      <td>NaN</td>\n",
              "      <td>NaN</td>\n",
              "      <td>NaN</td>\n",
              "      <td>2</td>\n",
              "    </tr>\n",
              "    <tr>\n",
              "      <th>top</th>\n",
              "      <td>NaN</td>\n",
              "      <td>White</td>\n",
              "      <td>Married</td>\n",
              "      <td>T2</td>\n",
              "      <td>N1</td>\n",
              "      <td>IIA</td>\n",
              "      <td>Moderately differentiated</td>\n",
              "      <td>2</td>\n",
              "      <td>Regional</td>\n",
              "      <td>NaN</td>\n",
              "      <td>Positive</td>\n",
              "      <td>Positive</td>\n",
              "      <td>NaN</td>\n",
              "      <td>NaN</td>\n",
              "      <td>NaN</td>\n",
              "      <td>Alive</td>\n",
              "    </tr>\n",
              "    <tr>\n",
              "      <th>freq</th>\n",
              "      <td>NaN</td>\n",
              "      <td>3069</td>\n",
              "      <td>2436</td>\n",
              "      <td>1786</td>\n",
              "      <td>2732</td>\n",
              "      <td>1305</td>\n",
              "      <td>2351</td>\n",
              "      <td>2351</td>\n",
              "      <td>3932</td>\n",
              "      <td>NaN</td>\n",
              "      <td>3567</td>\n",
              "      <td>3326</td>\n",
              "      <td>NaN</td>\n",
              "      <td>NaN</td>\n",
              "      <td>NaN</td>\n",
              "      <td>3408</td>\n",
              "    </tr>\n",
              "    <tr>\n",
              "      <th>mean</th>\n",
              "      <td>53.931467</td>\n",
              "      <td>NaN</td>\n",
              "      <td>NaN</td>\n",
              "      <td>NaN</td>\n",
              "      <td>NaN</td>\n",
              "      <td>NaN</td>\n",
              "      <td>NaN</td>\n",
              "      <td>NaN</td>\n",
              "      <td>NaN</td>\n",
              "      <td>30.560188</td>\n",
              "      <td>NaN</td>\n",
              "      <td>NaN</td>\n",
              "      <td>14.351652</td>\n",
              "      <td>4.158052</td>\n",
              "      <td>71.297962</td>\n",
              "      <td>NaN</td>\n",
              "    </tr>\n",
              "    <tr>\n",
              "      <th>std</th>\n",
              "      <td>8.972253</td>\n",
              "      <td>NaN</td>\n",
              "      <td>NaN</td>\n",
              "      <td>NaN</td>\n",
              "      <td>NaN</td>\n",
              "      <td>NaN</td>\n",
              "      <td>NaN</td>\n",
              "      <td>NaN</td>\n",
              "      <td>NaN</td>\n",
              "      <td>21.428535</td>\n",
              "      <td>NaN</td>\n",
              "      <td>NaN</td>\n",
              "      <td>8.170800</td>\n",
              "      <td>5.109331</td>\n",
              "      <td>22.921430</td>\n",
              "      <td>NaN</td>\n",
              "    </tr>\n",
              "    <tr>\n",
              "      <th>min</th>\n",
              "      <td>30.000000</td>\n",
              "      <td>NaN</td>\n",
              "      <td>NaN</td>\n",
              "      <td>NaN</td>\n",
              "      <td>NaN</td>\n",
              "      <td>NaN</td>\n",
              "      <td>NaN</td>\n",
              "      <td>NaN</td>\n",
              "      <td>NaN</td>\n",
              "      <td>1.000000</td>\n",
              "      <td>NaN</td>\n",
              "      <td>NaN</td>\n",
              "      <td>1.000000</td>\n",
              "      <td>1.000000</td>\n",
              "      <td>1.000000</td>\n",
              "      <td>NaN</td>\n",
              "    </tr>\n",
              "    <tr>\n",
              "      <th>25%</th>\n",
              "      <td>47.000000</td>\n",
              "      <td>NaN</td>\n",
              "      <td>NaN</td>\n",
              "      <td>NaN</td>\n",
              "      <td>NaN</td>\n",
              "      <td>NaN</td>\n",
              "      <td>NaN</td>\n",
              "      <td>NaN</td>\n",
              "      <td>NaN</td>\n",
              "      <td>16.000000</td>\n",
              "      <td>NaN</td>\n",
              "      <td>NaN</td>\n",
              "      <td>9.000000</td>\n",
              "      <td>1.000000</td>\n",
              "      <td>56.000000</td>\n",
              "      <td>NaN</td>\n",
              "    </tr>\n",
              "    <tr>\n",
              "      <th>50%</th>\n",
              "      <td>54.000000</td>\n",
              "      <td>NaN</td>\n",
              "      <td>NaN</td>\n",
              "      <td>NaN</td>\n",
              "      <td>NaN</td>\n",
              "      <td>NaN</td>\n",
              "      <td>NaN</td>\n",
              "      <td>NaN</td>\n",
              "      <td>NaN</td>\n",
              "      <td>25.000000</td>\n",
              "      <td>NaN</td>\n",
              "      <td>NaN</td>\n",
              "      <td>14.000000</td>\n",
              "      <td>2.000000</td>\n",
              "      <td>73.000000</td>\n",
              "      <td>NaN</td>\n",
              "    </tr>\n",
              "    <tr>\n",
              "      <th>75%</th>\n",
              "      <td>61.000000</td>\n",
              "      <td>NaN</td>\n",
              "      <td>NaN</td>\n",
              "      <td>NaN</td>\n",
              "      <td>NaN</td>\n",
              "      <td>NaN</td>\n",
              "      <td>NaN</td>\n",
              "      <td>NaN</td>\n",
              "      <td>NaN</td>\n",
              "      <td>38.000000</td>\n",
              "      <td>NaN</td>\n",
              "      <td>NaN</td>\n",
              "      <td>19.000000</td>\n",
              "      <td>5.000000</td>\n",
              "      <td>90.000000</td>\n",
              "      <td>NaN</td>\n",
              "    </tr>\n",
              "    <tr>\n",
              "      <th>max</th>\n",
              "      <td>69.000000</td>\n",
              "      <td>NaN</td>\n",
              "      <td>NaN</td>\n",
              "      <td>NaN</td>\n",
              "      <td>NaN</td>\n",
              "      <td>NaN</td>\n",
              "      <td>NaN</td>\n",
              "      <td>NaN</td>\n",
              "      <td>NaN</td>\n",
              "      <td>140.000000</td>\n",
              "      <td>NaN</td>\n",
              "      <td>NaN</td>\n",
              "      <td>61.000000</td>\n",
              "      <td>46.000000</td>\n",
              "      <td>107.000000</td>\n",
              "      <td>NaN</td>\n",
              "    </tr>\n",
              "  </tbody>\n",
              "</table>\n",
              "</div>\n",
              "    <div class=\"colab-df-buttons\">\n",
              "\n",
              "  <div class=\"colab-df-container\">\n",
              "    <button class=\"colab-df-convert\" onclick=\"convertToInteractive('df-6a883e02-53f5-4172-8768-85eac5a43444')\"\n",
              "            title=\"Convert this dataframe to an interactive table.\"\n",
              "            style=\"display:none;\">\n",
              "\n",
              "  <svg xmlns=\"http://www.w3.org/2000/svg\" height=\"24px\" viewBox=\"0 -960 960 960\">\n",
              "    <path d=\"M120-120v-720h720v720H120Zm60-500h600v-160H180v160Zm220 220h160v-160H400v160Zm0 220h160v-160H400v160ZM180-400h160v-160H180v160Zm440 0h160v-160H620v160ZM180-180h160v-160H180v160Zm440 0h160v-160H620v160Z\"/>\n",
              "  </svg>\n",
              "    </button>\n",
              "\n",
              "  <style>\n",
              "    .colab-df-container {\n",
              "      display:flex;\n",
              "      gap: 12px;\n",
              "    }\n",
              "\n",
              "    .colab-df-convert {\n",
              "      background-color: #E8F0FE;\n",
              "      border: none;\n",
              "      border-radius: 50%;\n",
              "      cursor: pointer;\n",
              "      display: none;\n",
              "      fill: #1967D2;\n",
              "      height: 32px;\n",
              "      padding: 0 0 0 0;\n",
              "      width: 32px;\n",
              "    }\n",
              "\n",
              "    .colab-df-convert:hover {\n",
              "      background-color: #E2EBFA;\n",
              "      box-shadow: 0px 1px 2px rgba(60, 64, 67, 0.3), 0px 1px 3px 1px rgba(60, 64, 67, 0.15);\n",
              "      fill: #174EA6;\n",
              "    }\n",
              "\n",
              "    .colab-df-buttons div {\n",
              "      margin-bottom: 4px;\n",
              "    }\n",
              "\n",
              "    [theme=dark] .colab-df-convert {\n",
              "      background-color: #3B4455;\n",
              "      fill: #D2E3FC;\n",
              "    }\n",
              "\n",
              "    [theme=dark] .colab-df-convert:hover {\n",
              "      background-color: #434B5C;\n",
              "      box-shadow: 0px 1px 3px 1px rgba(0, 0, 0, 0.15);\n",
              "      filter: drop-shadow(0px 1px 2px rgba(0, 0, 0, 0.3));\n",
              "      fill: #FFFFFF;\n",
              "    }\n",
              "  </style>\n",
              "\n",
              "    <script>\n",
              "      const buttonEl =\n",
              "        document.querySelector('#df-6a883e02-53f5-4172-8768-85eac5a43444 button.colab-df-convert');\n",
              "      buttonEl.style.display =\n",
              "        google.colab.kernel.accessAllowed ? 'block' : 'none';\n",
              "\n",
              "      async function convertToInteractive(key) {\n",
              "        const element = document.querySelector('#df-6a883e02-53f5-4172-8768-85eac5a43444');\n",
              "        const dataTable =\n",
              "          await google.colab.kernel.invokeFunction('convertToInteractive',\n",
              "                                                    [key], {});\n",
              "        if (!dataTable) return;\n",
              "\n",
              "        const docLinkHtml = 'Like what you see? Visit the ' +\n",
              "          '<a target=\"_blank\" href=https://colab.research.google.com/notebooks/data_table.ipynb>data table notebook</a>'\n",
              "          + ' to learn more about interactive tables.';\n",
              "        element.innerHTML = '';\n",
              "        dataTable['output_type'] = 'display_data';\n",
              "        await google.colab.output.renderOutput(dataTable, element);\n",
              "        const docLink = document.createElement('div');\n",
              "        docLink.innerHTML = docLinkHtml;\n",
              "        element.appendChild(docLink);\n",
              "      }\n",
              "    </script>\n",
              "  </div>\n",
              "\n",
              "\n",
              "<div id=\"df-50d8d0e2-c5f8-4b7f-ba48-911519becfd3\">\n",
              "  <button class=\"colab-df-quickchart\" onclick=\"quickchart('df-50d8d0e2-c5f8-4b7f-ba48-911519becfd3')\"\n",
              "            title=\"Suggest charts\"\n",
              "            style=\"display:none;\">\n",
              "\n",
              "<svg xmlns=\"http://www.w3.org/2000/svg\" height=\"24px\"viewBox=\"0 0 24 24\"\n",
              "     width=\"24px\">\n",
              "    <g>\n",
              "        <path d=\"M19 3H5c-1.1 0-2 .9-2 2v14c0 1.1.9 2 2 2h14c1.1 0 2-.9 2-2V5c0-1.1-.9-2-2-2zM9 17H7v-7h2v7zm4 0h-2V7h2v10zm4 0h-2v-4h2v4z\"/>\n",
              "    </g>\n",
              "</svg>\n",
              "  </button>\n",
              "\n",
              "<style>\n",
              "  .colab-df-quickchart {\n",
              "      --bg-color: #E8F0FE;\n",
              "      --fill-color: #1967D2;\n",
              "      --hover-bg-color: #E2EBFA;\n",
              "      --hover-fill-color: #174EA6;\n",
              "      --disabled-fill-color: #AAA;\n",
              "      --disabled-bg-color: #DDD;\n",
              "  }\n",
              "\n",
              "  [theme=dark] .colab-df-quickchart {\n",
              "      --bg-color: #3B4455;\n",
              "      --fill-color: #D2E3FC;\n",
              "      --hover-bg-color: #434B5C;\n",
              "      --hover-fill-color: #FFFFFF;\n",
              "      --disabled-bg-color: #3B4455;\n",
              "      --disabled-fill-color: #666;\n",
              "  }\n",
              "\n",
              "  .colab-df-quickchart {\n",
              "    background-color: var(--bg-color);\n",
              "    border: none;\n",
              "    border-radius: 50%;\n",
              "    cursor: pointer;\n",
              "    display: none;\n",
              "    fill: var(--fill-color);\n",
              "    height: 32px;\n",
              "    padding: 0;\n",
              "    width: 32px;\n",
              "  }\n",
              "\n",
              "  .colab-df-quickchart:hover {\n",
              "    background-color: var(--hover-bg-color);\n",
              "    box-shadow: 0 1px 2px rgba(60, 64, 67, 0.3), 0 1px 3px 1px rgba(60, 64, 67, 0.15);\n",
              "    fill: var(--button-hover-fill-color);\n",
              "  }\n",
              "\n",
              "  .colab-df-quickchart-complete:disabled,\n",
              "  .colab-df-quickchart-complete:disabled:hover {\n",
              "    background-color: var(--disabled-bg-color);\n",
              "    fill: var(--disabled-fill-color);\n",
              "    box-shadow: none;\n",
              "  }\n",
              "\n",
              "  .colab-df-spinner {\n",
              "    border: 2px solid var(--fill-color);\n",
              "    border-color: transparent;\n",
              "    border-bottom-color: var(--fill-color);\n",
              "    animation:\n",
              "      spin 1s steps(1) infinite;\n",
              "  }\n",
              "\n",
              "  @keyframes spin {\n",
              "    0% {\n",
              "      border-color: transparent;\n",
              "      border-bottom-color: var(--fill-color);\n",
              "      border-left-color: var(--fill-color);\n",
              "    }\n",
              "    20% {\n",
              "      border-color: transparent;\n",
              "      border-left-color: var(--fill-color);\n",
              "      border-top-color: var(--fill-color);\n",
              "    }\n",
              "    30% {\n",
              "      border-color: transparent;\n",
              "      border-left-color: var(--fill-color);\n",
              "      border-top-color: var(--fill-color);\n",
              "      border-right-color: var(--fill-color);\n",
              "    }\n",
              "    40% {\n",
              "      border-color: transparent;\n",
              "      border-right-color: var(--fill-color);\n",
              "      border-top-color: var(--fill-color);\n",
              "    }\n",
              "    60% {\n",
              "      border-color: transparent;\n",
              "      border-right-color: var(--fill-color);\n",
              "    }\n",
              "    80% {\n",
              "      border-color: transparent;\n",
              "      border-right-color: var(--fill-color);\n",
              "      border-bottom-color: var(--fill-color);\n",
              "    }\n",
              "    90% {\n",
              "      border-color: transparent;\n",
              "      border-bottom-color: var(--fill-color);\n",
              "    }\n",
              "  }\n",
              "</style>\n",
              "\n",
              "  <script>\n",
              "    async function quickchart(key) {\n",
              "      const quickchartButtonEl =\n",
              "        document.querySelector('#' + key + ' button');\n",
              "      quickchartButtonEl.disabled = true;  // To prevent multiple clicks.\n",
              "      quickchartButtonEl.classList.add('colab-df-spinner');\n",
              "      try {\n",
              "        const charts = await google.colab.kernel.invokeFunction(\n",
              "            'suggestCharts', [key], {});\n",
              "      } catch (error) {\n",
              "        console.error('Error during call to suggestCharts:', error);\n",
              "      }\n",
              "      quickchartButtonEl.classList.remove('colab-df-spinner');\n",
              "      quickchartButtonEl.classList.add('colab-df-quickchart-complete');\n",
              "    }\n",
              "    (() => {\n",
              "      let quickchartButtonEl =\n",
              "        document.querySelector('#df-50d8d0e2-c5f8-4b7f-ba48-911519becfd3 button');\n",
              "      quickchartButtonEl.style.display =\n",
              "        google.colab.kernel.accessAllowed ? 'block' : 'none';\n",
              "    })();\n",
              "  </script>\n",
              "</div>\n",
              "\n",
              "    </div>\n",
              "  </div>\n"
            ],
            "application/vnd.google.colaboratory.intrinsic+json": {
              "type": "dataframe",
              "summary": "{\n  \"name\": \"df\",\n  \"rows\": 11,\n  \"fields\": [\n    {\n      \"column\": \"Age\",\n      \"properties\": {\n        \"dtype\": \"number\",\n        \"std\": 1335.4091826859951,\n        \"min\": 8.972252774541097,\n        \"max\": 3823.0,\n        \"num_unique_values\": 8,\n        \"samples\": [\n          53.93146743395239,\n          54.0,\n          3823.0\n        ],\n        \"semantic_type\": \"\",\n        \"description\": \"\"\n      }\n    },\n    {\n      \"column\": \"Race\",\n      \"properties\": {\n        \"dtype\": \"category\",\n        \"num_unique_values\": 4,\n        \"samples\": [\n          3,\n          \"3069\",\n          \"3622\"\n        ],\n        \"semantic_type\": \"\",\n        \"description\": \"\"\n      }\n    },\n    {\n      \"column\": \"Marital Status\",\n      \"properties\": {\n        \"dtype\": \"category\",\n        \"num_unique_values\": 4,\n        \"samples\": [\n          5,\n          \"2436\",\n          \"3703\"\n        ],\n        \"semantic_type\": \"\",\n        \"description\": \"\"\n      }\n    },\n    {\n      \"column\": \"T Stage \",\n      \"properties\": {\n        \"dtype\": \"category\",\n        \"num_unique_values\": 4,\n        \"samples\": [\n          4,\n          \"1786\",\n          \"4024\"\n        ],\n        \"semantic_type\": \"\",\n        \"description\": \"\"\n      }\n    },\n    {\n      \"column\": \"N Stage\",\n      \"properties\": {\n        \"dtype\": \"category\",\n        \"num_unique_values\": 4,\n        \"samples\": [\n          3,\n          \"2732\",\n          \"4024\"\n        ],\n        \"semantic_type\": \"\",\n        \"description\": \"\"\n      }\n    },\n    {\n      \"column\": \"6th Stage\",\n      \"properties\": {\n        \"dtype\": \"category\",\n        \"num_unique_values\": 4,\n        \"samples\": [\n          5,\n          \"1305\",\n          \"4024\"\n        ],\n        \"semantic_type\": \"\",\n        \"description\": \"\"\n      }\n    },\n    {\n      \"column\": \"differentiate\",\n      \"properties\": {\n        \"dtype\": \"category\",\n        \"num_unique_values\": 4,\n        \"samples\": [\n          4,\n          \"2351\",\n          \"4024\"\n        ],\n        \"semantic_type\": \"\",\n        \"description\": \"\"\n      }\n    },\n    {\n      \"column\": \"Grade\",\n      \"properties\": {\n        \"dtype\": \"category\",\n        \"num_unique_values\": 4,\n        \"samples\": [\n          4,\n          \"2351\",\n          \"4024\"\n        ],\n        \"semantic_type\": \"\",\n        \"description\": \"\"\n      }\n    },\n    {\n      \"column\": \"A Stage\",\n      \"properties\": {\n        \"dtype\": \"category\",\n        \"num_unique_values\": 4,\n        \"samples\": [\n          2,\n          \"3932\",\n          \"4024\"\n        ],\n        \"semantic_type\": \"\",\n        \"description\": \"\"\n      }\n    },\n    {\n      \"column\": \"Tumor Size\",\n      \"properties\": {\n        \"dtype\": \"number\",\n        \"std\": 1267.551609875077,\n        \"min\": 1.0,\n        \"max\": 3622.0,\n        \"num_unique_values\": 8,\n        \"samples\": [\n          30.560187741579238,\n          25.0,\n          3622.0\n        ],\n        \"semantic_type\": \"\",\n        \"description\": \"\"\n      }\n    },\n    {\n      \"column\": \"Estrogen Status\",\n      \"properties\": {\n        \"dtype\": \"category\",\n        \"num_unique_values\": 4,\n        \"samples\": [\n          2,\n          \"3567\",\n          \"3823\"\n        ],\n        \"semantic_type\": \"\",\n        \"description\": \"\"\n      }\n    },\n    {\n      \"column\": \"Progesterone Status\",\n      \"properties\": {\n        \"dtype\": \"category\",\n        \"num_unique_values\": 4,\n        \"samples\": [\n          2,\n          \"3326\",\n          \"4024\"\n        ],\n        \"semantic_type\": \"\",\n        \"description\": \"\"\n      }\n    },\n    {\n      \"column\": \"Regional Node Examined\",\n      \"properties\": {\n        \"dtype\": \"number\",\n        \"std\": 1203.255066687904,\n        \"min\": 1.0,\n        \"max\": 3421.0,\n        \"num_unique_values\": 8,\n        \"samples\": [\n          14.351651563870213,\n          14.0,\n          3421.0\n        ],\n        \"semantic_type\": \"\",\n        \"description\": \"\"\n      }\n    },\n    {\n      \"column\": \"Reginol Node Positive\",\n      \"properties\": {\n        \"dtype\": \"number\",\n        \"std\": 1419.5333800980586,\n        \"min\": 1.0,\n        \"max\": 4024.0,\n        \"num_unique_values\": 7,\n        \"samples\": [\n          4024.0,\n          4.158051689860835,\n          5.0\n        ],\n        \"semantic_type\": \"\",\n        \"description\": \"\"\n      }\n    },\n    {\n      \"column\": \"Survival Months\",\n      \"properties\": {\n        \"dtype\": \"number\",\n        \"std\": 1401.84586788946,\n        \"min\": 1.0,\n        \"max\": 4024.0,\n        \"num_unique_values\": 8,\n        \"samples\": [\n          71.29796222664015,\n          73.0,\n          4024.0\n        ],\n        \"semantic_type\": \"\",\n        \"description\": \"\"\n      }\n    },\n    {\n      \"column\": \"Status\",\n      \"properties\": {\n        \"dtype\": \"category\",\n        \"num_unique_values\": 4,\n        \"samples\": [\n          2,\n          \"3408\",\n          \"4024\"\n        ],\n        \"semantic_type\": \"\",\n        \"description\": \"\"\n      }\n    }\n  ]\n}"
            }
          },
          "metadata": {},
          "execution_count": 5
        }
      ]
    },
    {
      "cell_type": "code",
      "source": [
        "# Fill missing values for numerical columns with the median\n",
        "numerical_columns = df.select_dtypes(include=['float64', 'int64']).columns\n",
        "df[numerical_columns] = df[numerical_columns].fillna(df[numerical_columns].median())\n",
        "\n",
        "# Fill missing values for categorical columns with the mode\n",
        "categorical_columns = df.select_dtypes(include=['object']).columns\n",
        "df[categorical_columns] = df[categorical_columns].fillna(df[categorical_columns].mode().iloc[0])\n"
      ],
      "metadata": {
        "id": "YPdqWibZZKPB"
      },
      "execution_count": null,
      "outputs": []
    },
    {
      "cell_type": "code",
      "source": [
        "# Check for any remaining missing values\n",
        "missing_values = df.isnull().sum()\n",
        "\n",
        "# Display columns with missing values, if any\n",
        "missing_values[missing_values > 0]\n",
        "\n",
        "# Check if there are any missing values across the entire dataset\n",
        "print(\"Total missing values:\", df.isnull().sum().sum())\n"
      ],
      "metadata": {
        "colab": {
          "base_uri": "https://localhost:8080/"
        },
        "id": "pTA83kpxZhhP",
        "outputId": "019e62b9-ae8c-4ba6-9f4f-c394c30c4587"
      },
      "execution_count": null,
      "outputs": [
        {
          "output_type": "stream",
          "name": "stdout",
          "text": [
            "Total missing values: 0\n"
          ]
        }
      ]
    },
    {
      "cell_type": "code",
      "source": [
        "# Dictionary to store outliers for each column\n",
        "outliers_dict = {}\n",
        "\n",
        "for col in numerical_columns:\n",
        "    Q1 = df[col].quantile(0.25)\n",
        "    Q3 = df[col].quantile(0.75)\n",
        "    IQR = Q3 - Q1\n",
        "    lower_bound = Q1 - 1.5 * IQR\n",
        "    upper_bound = Q3 + 1.5 * IQR\n",
        "\n",
        "    # Find outliers\n",
        "    outliers = df[(df[col] < lower_bound) | (df[col] > upper_bound)]\n",
        "    outliers_dict[col] = outliers\n",
        "\n",
        "    # Print summary of outliers for the column\n",
        "    print(f\"Column: {col}\")\n",
        "    print(f\"Number of outliers: {outliers.shape[0]}\")\n",
        "    print(outliers[[col]].head())  # Display first few outliers for inspection\n",
        "    print(\"-\" * 50)\n"
      ],
      "metadata": {
        "colab": {
          "base_uri": "https://localhost:8080/"
        },
        "id": "TGi_pXADZ1f5",
        "outputId": "ce04dc1e-8b44-41a4-a992-f94f0f57cf53"
      },
      "execution_count": null,
      "outputs": [
        {
          "output_type": "stream",
          "name": "stdout",
          "text": [
            "Column: Age\n",
            "Number of outliers: 0\n",
            "Empty DataFrame\n",
            "Columns: [Age]\n",
            "Index: []\n",
            "--------------------------------------------------\n",
            "Column: Tumor Size\n",
            "Number of outliers: 138\n",
            "     Tumor Size\n",
            "11         59.0\n",
            "51         55.0\n",
            "75         55.0\n",
            "90         60.0\n",
            "165        62.0\n",
            "--------------------------------------------------\n",
            "Column: Regional Node Examined\n",
            "Number of outliers: 100\n",
            "     Regional Node Examined\n",
            "109                    30.0\n",
            "135                    28.0\n",
            "225                    27.0\n",
            "240                    29.0\n",
            "241                    30.0\n",
            "--------------------------------------------------\n",
            "Column: Reginol Node Positive\n",
            "Number of outliers: 153\n",
            "     Reginol Node Positive\n",
            "13                       7\n",
            "134                      7\n",
            "166                      7\n",
            "221                      7\n",
            "231                      7\n",
            "--------------------------------------------------\n",
            "Column: Survival Months\n",
            "Number of outliers: 0\n",
            "Empty DataFrame\n",
            "Columns: [Survival Months]\n",
            "Index: []\n",
            "--------------------------------------------------\n"
          ]
        }
      ]
    },
    {
      "cell_type": "code",
      "source": [],
      "metadata": {
        "id": "l27BRSDsiYM4"
      },
      "execution_count": null,
      "outputs": []
    },
    {
      "cell_type": "markdown",
      "source": [
        "## Capping"
      ],
      "metadata": {
        "id": "bYFlIEj6iaU3"
      }
    },
    {
      "cell_type": "code",
      "source": [
        "for col in numerical_columns:\n",
        "    Q1 = df[col].quantile(0.25)\n",
        "    Q3 = df[col].quantile(0.75)\n",
        "    IQR = Q3 - Q1\n",
        "    lower_bound = Q1 - 1.5 * IQR\n",
        "    upper_bound = Q3 + 1.5 * IQR\n",
        "\n",
        "    # Cap the outliers\n",
        "    df[col] = df[col].apply(lambda x: lower_bound if x < lower_bound else upper_bound if x > upper_bound else x)\n"
      ],
      "metadata": {
        "id": "IYPTG8BiZK5V"
      },
      "execution_count": null,
      "outputs": []
    },
    {
      "cell_type": "code",
      "source": [
        "from sklearn.preprocessing import MinMaxScaler\n",
        "\n",
        "# Normalize the numerical columns\n",
        "scaler = MinMaxScaler()\n",
        "df[numerical_columns] = scaler.fit_transform(df[numerical_columns])\n"
      ],
      "metadata": {
        "id": "MdyXmVgiZWXK"
      },
      "execution_count": null,
      "outputs": []
    },
    {
      "cell_type": "code",
      "source": [],
      "metadata": {
        "id": "eSHLUBIipciQ"
      },
      "execution_count": null,
      "outputs": []
    },
    {
      "cell_type": "markdown",
      "source": [
        "## Feature Selection"
      ],
      "metadata": {
        "id": "1GKCuYjBpcx_"
      }
    },
    {
      "cell_type": "code",
      "source": [
        "from sklearn.feature_selection import mutual_info_classif, chi2\n",
        "from sklearn.preprocessing import LabelEncoder\n",
        "\n",
        "# One-hot encode categorical features\n",
        "df_encoded = pd.get_dummies(df.drop('Status', axis=1), drop_first=True)\n",
        "\n",
        "# Encode the target variable if necessary\n",
        "df['Status'] = LabelEncoder().fit_transform(df['Status'])\n",
        "\n",
        "# Calculate Information Gain\n",
        "info_gain = mutual_info_classif(df_encoded, df['Status'])\n",
        "print(\"Information Gain Scores:\", info_gain)\n",
        "\n",
        "# Calculate Chi-Square\n",
        "chi_scores, p_values = chi2(df_encoded, df['Status'])\n",
        "print(\"Chi-Square Scores:\", chi_scores)\n"
      ],
      "metadata": {
        "colab": {
          "base_uri": "https://localhost:8080/"
        },
        "id": "F5rhKfnZaa_9",
        "outputId": "ee226c8d-99dd-4db2-8e9a-f529bbd21487"
      },
      "execution_count": null,
      "outputs": [
        {
          "output_type": "stream",
          "name": "stdout",
          "text": [
            "Information Gain Scores: [0.01286196 0.01012869 0.         0.01099834 0.0851277  0.00534466\n",
            " 0.         0.00276259 0.00128822 0.         0.         0.00435678\n",
            " 0.00198096 0.         0.00896255 0.00169567 0.         0.00936423\n",
            " 0.         0.         0.         0.         0.00071775 0.00144511\n",
            " 0.00198015 0.         0.00140448 0.010851   0.00402444]\n",
            "Chi-Square Scores: [6.69112411e-01 2.35709495e+00 9.74367111e-01 7.60549314e+00\n",
            " 2.62720985e+01 2.16379448e+00 1.71555240e-01 3.37552098e+00\n",
            " 7.70854272e+00 1.72538423e-03 5.67697326e+00 1.08081742e+01\n",
            " 3.37363030e-01 8.62150459e+00 1.22941085e+01 6.66677156e+00\n",
            " 2.26576053e+00 1.11312723e+01 8.62150459e+00 6.66677156e+00\n",
            " 2.65788055e+01 2.50853036e+00 1.09219313e+01 1.09219313e+01\n",
            " 3.01864217e+00 2.65788055e+01 4.06656320e-02 3.04802356e+00\n",
            " 8.81747464e+00]\n"
          ]
        }
      ]
    },
    {
      "cell_type": "code",
      "source": [
        "import numpy as np\n",
        "\n",
        "# Combine scores into a DataFrame for easy viewing and selection\n",
        "feature_scores = pd.DataFrame({\n",
        "    'Feature': df_encoded.columns,\n",
        "    'Information_Gain': info_gain,\n",
        "    'Chi_Square': chi_scores\n",
        "})\n",
        "\n",
        "# Sort features by Information Gain and Chi-Square scores\n",
        "feature_scores = feature_scores.sort_values(by=['Information_Gain', 'Chi_Square'], ascending=False)\n",
        "top_features = feature_scores.head(10)  # Select top 10 features as an example\n",
        "\n",
        "print(\"Top features based on Information Gain and Chi-Square:\")\n",
        "print(top_features)\n"
      ],
      "metadata": {
        "colab": {
          "base_uri": "https://localhost:8080/"
        },
        "id": "hNyPxTqocDyb",
        "outputId": "463368cd-3387-4b68-8705-c51cf2db7b5e"
      },
      "execution_count": null,
      "outputs": [
        {
          "output_type": "stream",
          "name": "stdout",
          "text": [
            "Top features based on Information Gain and Chi-Square:\n",
            "                         Feature  Information_Gain  Chi_Square\n",
            "4                Survival Months          0.085128   26.272098\n",
            "0                            Age          0.012862    0.669112\n",
            "3          Reginol Node Positive          0.010998    7.605493\n",
            "27      Estrogen Status_Positive          0.010851    3.048024\n",
            "1                     Tumor Size          0.010129    2.357095\n",
            "17                6th Stage_IIIA          0.009364   11.131272\n",
            "14                    N Stage_N2          0.008963   12.294108\n",
            "5                     Race_Other          0.005345    2.163794\n",
            "11                   T Stage _T2          0.004357   10.808174\n",
            "28  Progesterone Status_Positive          0.004024    8.817475\n"
          ]
        }
      ]
    },
    {
      "cell_type": "code",
      "source": [
        "# Assuming you chose the top 10 features based on Information Gain and Chi-Square scores\n",
        "selected_features = top_features['Feature'].tolist()  # List of top feature names\n",
        "\n",
        "# Filter the dataset to only include selected features\n",
        "X = df_encoded[selected_features]\n",
        "y = df['Status']\n"
      ],
      "metadata": {
        "id": "BozSDL2CcFCg"
      },
      "execution_count": null,
      "outputs": []
    },
    {
      "cell_type": "code",
      "source": [
        "# Step 1: One-hot encode the entire dataset\n",
        "df_encoded = pd.get_dummies(df, drop_first=True)\n",
        "\n",
        "# Step 2: Separate features and target after encoding\n",
        "X = df_encoded.drop('Status', axis=1)\n",
        "y = df_encoded['Status']\n",
        "\n",
        "# Step 3: Select the top features from the encoded dataset\n",
        "top_features_encoded = [feature for feature in X.columns if feature in selected_features]\n",
        "\n",
        "# Step 4: Use the selected features for training and testing\n",
        "X = X[top_features_encoded]\n",
        "\n",
        "# Step 5: Split the dataset into training and test sets\n",
        "X_train, X_test, y_train, y_test = train_test_split(X, y, test_size=0.2, random_state=42)\n",
        "\n",
        "# Step 6: Fit and predict with the KNN model as before\n",
        "knn = KNN(k=3)\n",
        "knn.fit(X_train, y_train)\n",
        "predictions = knn.predict(X_test)\n",
        "\n",
        "# Evaluate the accuracy\n",
        "accuracy = np.mean(predictions == y_test)\n",
        "print(f\"KNN Accuracy: {accuracy * 100:.2f}%\")\n"
      ],
      "metadata": {
        "colab": {
          "base_uri": "https://localhost:8080/",
          "height": 356
        },
        "id": "mw1-r3HocGti",
        "outputId": "6b600386-cbb1-4005-ba45-c9d19bd51a5f"
      },
      "execution_count": null,
      "outputs": [
        {
          "output_type": "error",
          "ename": "TypeError",
          "evalue": "unsupported operand type(s) for -: 'str' and 'float'",
          "traceback": [
            "\u001b[0;31m---------------------------------------------------------------------------\u001b[0m",
            "\u001b[0;31mTypeError\u001b[0m                                 Traceback (most recent call last)",
            "\u001b[0;32m<ipython-input-21-7f02008c1495>\u001b[0m in \u001b[0;36m<cell line: 20>\u001b[0;34m()\u001b[0m\n\u001b[1;32m     18\u001b[0m \u001b[0mknn\u001b[0m \u001b[0;34m=\u001b[0m \u001b[0mKNN\u001b[0m\u001b[0;34m(\u001b[0m\u001b[0mk\u001b[0m\u001b[0;34m=\u001b[0m\u001b[0;36m3\u001b[0m\u001b[0;34m)\u001b[0m\u001b[0;34m\u001b[0m\u001b[0;34m\u001b[0m\u001b[0m\n\u001b[1;32m     19\u001b[0m \u001b[0mknn\u001b[0m\u001b[0;34m.\u001b[0m\u001b[0mfit\u001b[0m\u001b[0;34m(\u001b[0m\u001b[0mX_train\u001b[0m\u001b[0;34m,\u001b[0m \u001b[0my_train\u001b[0m\u001b[0;34m)\u001b[0m\u001b[0;34m\u001b[0m\u001b[0;34m\u001b[0m\u001b[0m\n\u001b[0;32m---> 20\u001b[0;31m \u001b[0mpredictions\u001b[0m \u001b[0;34m=\u001b[0m \u001b[0mknn\u001b[0m\u001b[0;34m.\u001b[0m\u001b[0mpredict\u001b[0m\u001b[0;34m(\u001b[0m\u001b[0mX_test\u001b[0m\u001b[0;34m)\u001b[0m\u001b[0;34m\u001b[0m\u001b[0;34m\u001b[0m\u001b[0m\n\u001b[0m\u001b[1;32m     21\u001b[0m \u001b[0;34m\u001b[0m\u001b[0m\n\u001b[1;32m     22\u001b[0m \u001b[0;31m# Evaluate the accuracy\u001b[0m\u001b[0;34m\u001b[0m\u001b[0;34m\u001b[0m\u001b[0m\n",
            "\u001b[0;32m<ipython-input-19-4fdc98db109d>\u001b[0m in \u001b[0;36mpredict\u001b[0;34m(self, X_test)\u001b[0m\n\u001b[1;32m     11\u001b[0m \u001b[0;34m\u001b[0m\u001b[0m\n\u001b[1;32m     12\u001b[0m     \u001b[0;32mdef\u001b[0m \u001b[0mpredict\u001b[0m\u001b[0;34m(\u001b[0m\u001b[0mself\u001b[0m\u001b[0;34m,\u001b[0m \u001b[0mX_test\u001b[0m\u001b[0;34m)\u001b[0m\u001b[0;34m:\u001b[0m\u001b[0;34m\u001b[0m\u001b[0;34m\u001b[0m\u001b[0m\n\u001b[0;32m---> 13\u001b[0;31m         \u001b[0mpredictions\u001b[0m \u001b[0;34m=\u001b[0m \u001b[0;34m[\u001b[0m\u001b[0mself\u001b[0m\u001b[0;34m.\u001b[0m\u001b[0m_predict\u001b[0m\u001b[0;34m(\u001b[0m\u001b[0mx\u001b[0m\u001b[0;34m)\u001b[0m \u001b[0;32mfor\u001b[0m \u001b[0mx\u001b[0m \u001b[0;32min\u001b[0m \u001b[0mX_test\u001b[0m\u001b[0;34m]\u001b[0m\u001b[0;34m\u001b[0m\u001b[0;34m\u001b[0m\u001b[0m\n\u001b[0m\u001b[1;32m     14\u001b[0m         \u001b[0;32mreturn\u001b[0m \u001b[0mnp\u001b[0m\u001b[0;34m.\u001b[0m\u001b[0marray\u001b[0m\u001b[0;34m(\u001b[0m\u001b[0mpredictions\u001b[0m\u001b[0;34m)\u001b[0m\u001b[0;34m\u001b[0m\u001b[0;34m\u001b[0m\u001b[0m\n\u001b[1;32m     15\u001b[0m \u001b[0;34m\u001b[0m\u001b[0m\n",
            "\u001b[0;32m<ipython-input-19-4fdc98db109d>\u001b[0m in \u001b[0;36m<listcomp>\u001b[0;34m(.0)\u001b[0m\n\u001b[1;32m     11\u001b[0m \u001b[0;34m\u001b[0m\u001b[0m\n\u001b[1;32m     12\u001b[0m     \u001b[0;32mdef\u001b[0m \u001b[0mpredict\u001b[0m\u001b[0;34m(\u001b[0m\u001b[0mself\u001b[0m\u001b[0;34m,\u001b[0m \u001b[0mX_test\u001b[0m\u001b[0;34m)\u001b[0m\u001b[0;34m:\u001b[0m\u001b[0;34m\u001b[0m\u001b[0;34m\u001b[0m\u001b[0m\n\u001b[0;32m---> 13\u001b[0;31m         \u001b[0mpredictions\u001b[0m \u001b[0;34m=\u001b[0m \u001b[0;34m[\u001b[0m\u001b[0mself\u001b[0m\u001b[0;34m.\u001b[0m\u001b[0m_predict\u001b[0m\u001b[0;34m(\u001b[0m\u001b[0mx\u001b[0m\u001b[0;34m)\u001b[0m \u001b[0;32mfor\u001b[0m \u001b[0mx\u001b[0m \u001b[0;32min\u001b[0m \u001b[0mX_test\u001b[0m\u001b[0;34m]\u001b[0m\u001b[0;34m\u001b[0m\u001b[0;34m\u001b[0m\u001b[0m\n\u001b[0m\u001b[1;32m     14\u001b[0m         \u001b[0;32mreturn\u001b[0m \u001b[0mnp\u001b[0m\u001b[0;34m.\u001b[0m\u001b[0marray\u001b[0m\u001b[0;34m(\u001b[0m\u001b[0mpredictions\u001b[0m\u001b[0;34m)\u001b[0m\u001b[0;34m\u001b[0m\u001b[0;34m\u001b[0m\u001b[0m\n\u001b[1;32m     15\u001b[0m \u001b[0;34m\u001b[0m\u001b[0m\n",
            "\u001b[0;32m<ipython-input-19-4fdc98db109d>\u001b[0m in \u001b[0;36m_predict\u001b[0;34m(self, x)\u001b[0m\n\u001b[1;32m     16\u001b[0m     \u001b[0;32mdef\u001b[0m \u001b[0m_predict\u001b[0m\u001b[0;34m(\u001b[0m\u001b[0mself\u001b[0m\u001b[0;34m,\u001b[0m \u001b[0mx\u001b[0m\u001b[0;34m)\u001b[0m\u001b[0;34m:\u001b[0m\u001b[0;34m\u001b[0m\u001b[0;34m\u001b[0m\u001b[0m\n\u001b[1;32m     17\u001b[0m         \u001b[0;31m# Calculate the distances between x and all examples in the training set\u001b[0m\u001b[0;34m\u001b[0m\u001b[0;34m\u001b[0m\u001b[0m\n\u001b[0;32m---> 18\u001b[0;31m         \u001b[0mdistances\u001b[0m \u001b[0;34m=\u001b[0m \u001b[0;34m[\u001b[0m\u001b[0mnp\u001b[0m\u001b[0;34m.\u001b[0m\u001b[0msqrt\u001b[0m\u001b[0;34m(\u001b[0m\u001b[0mnp\u001b[0m\u001b[0;34m.\u001b[0m\u001b[0msum\u001b[0m\u001b[0;34m(\u001b[0m\u001b[0;34m(\u001b[0m\u001b[0mx\u001b[0m \u001b[0;34m-\u001b[0m \u001b[0mx_train\u001b[0m\u001b[0;34m)\u001b[0m\u001b[0;34m**\u001b[0m\u001b[0;36m2\u001b[0m\u001b[0;34m)\u001b[0m\u001b[0;34m)\u001b[0m \u001b[0;32mfor\u001b[0m \u001b[0mx_train\u001b[0m \u001b[0;32min\u001b[0m \u001b[0mself\u001b[0m\u001b[0;34m.\u001b[0m\u001b[0mX_train\u001b[0m\u001b[0;34m]\u001b[0m\u001b[0;34m\u001b[0m\u001b[0;34m\u001b[0m\u001b[0m\n\u001b[0m\u001b[1;32m     19\u001b[0m \u001b[0;34m\u001b[0m\u001b[0m\n\u001b[1;32m     20\u001b[0m         \u001b[0;31m# Get the k nearest samples\u001b[0m\u001b[0;34m\u001b[0m\u001b[0;34m\u001b[0m\u001b[0m\n",
            "\u001b[0;32m<ipython-input-19-4fdc98db109d>\u001b[0m in \u001b[0;36m<listcomp>\u001b[0;34m(.0)\u001b[0m\n\u001b[1;32m     16\u001b[0m     \u001b[0;32mdef\u001b[0m \u001b[0m_predict\u001b[0m\u001b[0;34m(\u001b[0m\u001b[0mself\u001b[0m\u001b[0;34m,\u001b[0m \u001b[0mx\u001b[0m\u001b[0;34m)\u001b[0m\u001b[0;34m:\u001b[0m\u001b[0;34m\u001b[0m\u001b[0;34m\u001b[0m\u001b[0m\n\u001b[1;32m     17\u001b[0m         \u001b[0;31m# Calculate the distances between x and all examples in the training set\u001b[0m\u001b[0;34m\u001b[0m\u001b[0;34m\u001b[0m\u001b[0m\n\u001b[0;32m---> 18\u001b[0;31m         \u001b[0mdistances\u001b[0m \u001b[0;34m=\u001b[0m \u001b[0;34m[\u001b[0m\u001b[0mnp\u001b[0m\u001b[0;34m.\u001b[0m\u001b[0msqrt\u001b[0m\u001b[0;34m(\u001b[0m\u001b[0mnp\u001b[0m\u001b[0;34m.\u001b[0m\u001b[0msum\u001b[0m\u001b[0;34m(\u001b[0m\u001b[0;34m(\u001b[0m\u001b[0mx\u001b[0m \u001b[0;34m-\u001b[0m \u001b[0mx_train\u001b[0m\u001b[0;34m)\u001b[0m\u001b[0;34m**\u001b[0m\u001b[0;36m2\u001b[0m\u001b[0;34m)\u001b[0m\u001b[0;34m)\u001b[0m \u001b[0;32mfor\u001b[0m \u001b[0mx_train\u001b[0m \u001b[0;32min\u001b[0m \u001b[0mself\u001b[0m\u001b[0;34m.\u001b[0m\u001b[0mX_train\u001b[0m\u001b[0;34m]\u001b[0m\u001b[0;34m\u001b[0m\u001b[0;34m\u001b[0m\u001b[0m\n\u001b[0m\u001b[1;32m     19\u001b[0m \u001b[0;34m\u001b[0m\u001b[0m\n\u001b[1;32m     20\u001b[0m         \u001b[0;31m# Get the k nearest samples\u001b[0m\u001b[0;34m\u001b[0m\u001b[0;34m\u001b[0m\u001b[0m\n",
            "\u001b[0;31mTypeError\u001b[0m: unsupported operand type(s) for -: 'str' and 'float'"
          ]
        }
      ]
    },
    {
      "cell_type": "code",
      "source": [
        "# Check for any non-numeric columns in X_train or X_test\n",
        "non_numeric_columns = X_train.select_dtypes(include=['object']).columns\n",
        "if len(non_numeric_columns) > 0:\n",
        "    print(\"Non-numeric columns found:\", non_numeric_columns)\n",
        "else:\n",
        "    print(\"All columns are numeric.\")\n"
      ],
      "metadata": {
        "colab": {
          "base_uri": "https://localhost:8080/"
        },
        "id": "6CejGim7dHWg",
        "outputId": "3dbbdbae-750b-403e-eb4a-8a4388e925c3"
      },
      "execution_count": null,
      "outputs": [
        {
          "output_type": "stream",
          "name": "stdout",
          "text": [
            "All columns are numeric.\n"
          ]
        }
      ]
    },
    {
      "cell_type": "markdown",
      "source": [
        "# Knn"
      ],
      "metadata": {
        "id": "VBNiHmprpkTE"
      }
    },
    {
      "cell_type": "code",
      "source": [
        "import numpy as np\n",
        "from collections import Counter\n",
        "\n",
        "class KNN:\n",
        "    def __init__(self, k=3):\n",
        "        self.k = k\n",
        "\n",
        "    # Fit method simply stores the training data\n",
        "    def fit(self, X_train, y_train):\n",
        "        self.X_train = np.array(X_train)\n",
        "        self.y_train = np.array(y_train)\n",
        "\n",
        "    # Predict method for each test sample\n",
        "    def predict(self, X_test):\n",
        "        predictions = [self._predict(x) for x in np.array(X_test)]\n",
        "        return np.array(predictions)\n",
        "\n",
        "    # Private method to predict the class for a single instance\n",
        "    def _predict(self, x):\n",
        "        # Step 1: Compute distances between x and all examples in the training set\n",
        "        distances = [np.sqrt(np.sum((x - x_train)**2)) for x_train in self.X_train]\n",
        "\n",
        "        # Step 2: Sort by distance and return indices of the first k neighbors\n",
        "        k_indices = np.argsort(distances)[:self.k]\n",
        "        k_nearest_labels = [self.y_train[i] for i in k_indices]\n",
        "\n",
        "        # Step 3: Majority vote, most common class label\n",
        "        most_common = Counter(k_nearest_labels).most_common(1)\n",
        "        return most_common[0][0]\n",
        "\n",
        "# Example usage:\n",
        "\n",
        "# Split the dataset into training and testing sets\n",
        "from sklearn.model_selection import train_test_split\n",
        "X_train, X_test, y_train, y_test = train_test_split(X, y, test_size=0.2, random_state=42)\n",
        "\n",
        "# Instantiate and train the KNN model\n",
        "knn = KNN(k=3)\n",
        "knn.fit(X_train, y_train)\n",
        "\n",
        "# Make predictions on the test set\n",
        "predictions = knn.predict(X_test)\n",
        "\n",
        "# Evaluate the accuracy\n",
        "accuracy = np.mean(predictions == y_test)\n",
        "print(f\"KNN Accuracy: {accuracy * 100:.2f}%\")\n"
      ],
      "metadata": {
        "colab": {
          "base_uri": "https://localhost:8080/"
        },
        "id": "SlwhfyDOdZe7",
        "outputId": "7597fcb9-5e82-4035-d007-48f03bbd37e8"
      },
      "execution_count": null,
      "outputs": [
        {
          "output_type": "stream",
          "name": "stdout",
          "text": [
            "KNN Accuracy: 91.80%\n"
          ]
        }
      ]
    },
    {
      "cell_type": "markdown",
      "source": [
        "# Gaussian"
      ],
      "metadata": {
        "id": "yzPxuJH7dsj0"
      }
    },
    {
      "cell_type": "code",
      "source": [
        "from sklearn.naive_bayes import GaussianNB\n",
        "from sklearn.metrics import accuracy_score\n",
        "\n",
        "# Instantiate the Gaussian Naive Bayes model\n",
        "nb = GaussianNB()\n",
        "\n",
        "# Fit the model to the training data\n",
        "nb.fit(X_train, y_train)\n",
        "\n",
        "# Make predictions on the test set\n",
        "nb_predictions = nb.predict(X_test)\n",
        "\n",
        "# Evaluate the accuracy\n",
        "nb_accuracy = accuracy_score(y_test, nb_predictions)\n",
        "print(f\"Naive Bayes Accuracy: {nb_accuracy * 100:.2f}%\")\n"
      ],
      "metadata": {
        "colab": {
          "base_uri": "https://localhost:8080/"
        },
        "id": "HmBpyvGidyYN",
        "outputId": "7b4106b1-8dbb-4f64-a8ab-5378d8bb13d2"
      },
      "execution_count": null,
      "outputs": [
        {
          "output_type": "stream",
          "name": "stdout",
          "text": [
            "Naive Bayes Accuracy: 84.14%\n"
          ]
        }
      ]
    },
    {
      "cell_type": "markdown",
      "source": [
        "# C4.5 Decision Tree"
      ],
      "metadata": {
        "id": "uQ1aRCKVd6M9"
      }
    },
    {
      "cell_type": "code",
      "source": [
        "from sklearn.tree import DecisionTreeClassifier\n",
        "from sklearn.metrics import accuracy_score\n",
        "\n",
        "# Instantiate the Decision Tree with entropy criterion\n",
        "c45_tree = DecisionTreeClassifier(criterion='entropy', random_state=42)\n",
        "\n",
        "# Fit the model to the training data\n",
        "c45_tree.fit(X_train, y_train)\n",
        "\n",
        "# Make predictions on the test set\n",
        "c45_predictions = c45_tree.predict(X_test)\n",
        "\n",
        "# Evaluate the accuracy\n",
        "c45_accuracy = accuracy_score(y_test, c45_predictions)\n",
        "print(f\"C4.5 Decision Tree Accuracy: {c45_accuracy * 100:.2f}%\")\n"
      ],
      "metadata": {
        "colab": {
          "base_uri": "https://localhost:8080/"
        },
        "id": "zje2m5skd9pj",
        "outputId": "a27e56aa-5f9f-4d93-bf16-34873d819869"
      },
      "execution_count": null,
      "outputs": [
        {
          "output_type": "stream",
          "name": "stdout",
          "text": [
            "C4.5 Decision Tree Accuracy: 84.85%\n"
          ]
        }
      ]
    },
    {
      "cell_type": "markdown",
      "source": [
        "# Random Forest"
      ],
      "metadata": {
        "id": "MN4oCqjneCN1"
      }
    },
    {
      "cell_type": "code",
      "source": [
        "from sklearn.ensemble import RandomForestClassifier\n",
        "\n",
        "# Instantiate the Random Forest model with 100 trees\n",
        "rf = RandomForestClassifier(n_estimators=100, criterion='entropy', random_state=42)\n",
        "\n",
        "# Fit the model to the training data\n",
        "rf.fit(X_train, y_train)\n",
        "\n",
        "# Make predictions on the test set\n",
        "rf_predictions = rf.predict(X_test)\n",
        "\n",
        "# Evaluate the accuracy\n",
        "rf_accuracy = accuracy_score(y_test, rf_predictions)\n",
        "print(f\"Random Forest Accuracy: {rf_accuracy * 100:.2f}%\")\n"
      ],
      "metadata": {
        "colab": {
          "base_uri": "https://localhost:8080/"
        },
        "id": "rHedZxcLeE0M",
        "outputId": "21883db1-d702-460e-8613-79d19553f149"
      },
      "execution_count": null,
      "outputs": [
        {
          "output_type": "stream",
          "name": "stdout",
          "text": [
            "Random Forest Accuracy: 92.51%\n"
          ]
        }
      ]
    },
    {
      "cell_type": "markdown",
      "source": [
        "# Gradient Boosting"
      ],
      "metadata": {
        "id": "7HwXdiaUeLDG"
      }
    },
    {
      "cell_type": "code",
      "source": [
        "from sklearn.ensemble import GradientBoostingClassifier\n",
        "\n",
        "# Instantiate the Gradient Boosting model\n",
        "gb = GradientBoostingClassifier(n_estimators=100, learning_rate=0.1, max_depth=3, random_state=42)\n",
        "\n",
        "# Fit the model to the training data\n",
        "gb.fit(X_train, y_train)\n",
        "\n",
        "# Make predictions on the test set\n",
        "gb_predictions = gb.predict(X_test)\n",
        "\n",
        "# Evaluate the accuracy\n",
        "gb_accuracy = accuracy_score(y_test, gb_predictions)\n",
        "print(f\"Gradient Boosting Accuracy: {gb_accuracy * 100:.2f}%\")\n"
      ],
      "metadata": {
        "colab": {
          "base_uri": "https://localhost:8080/"
        },
        "id": "LY8rRbA2eMeF",
        "outputId": "ecbb437b-f921-42d2-cfec-631db2d80bad"
      },
      "execution_count": null,
      "outputs": [
        {
          "output_type": "stream",
          "name": "stdout",
          "text": [
            "Gradient Boosting Accuracy: 92.16%\n"
          ]
        }
      ]
    },
    {
      "cell_type": "code",
      "source": [
        "import pandas as pd\n",
        "\n",
        "def display_feature_importance(model, model_name):\n",
        "    # Extract feature importances\n",
        "    importances = model.feature_importances_\n",
        "    # Create a DataFrame for feature importance\n",
        "    feature_importance_df = pd.DataFrame({\n",
        "        'Feature': X.columns,\n",
        "        'Importance': importances\n",
        "    }).sort_values(by='Importance', ascending=False)\n",
        "\n",
        "    # Display the top features\n",
        "    print(f\"Top Features by Importance in {model_name}:\")\n",
        "    print(feature_importance_df.head())\n",
        "    print(\"\\n\")\n",
        "\n",
        "# Random Forest\n",
        "display_feature_importance(rf_grid_search.best_estimator_, \"Random Forest\")\n",
        "\n",
        "# Gradient Boosting\n",
        "display_feature_importance(gb, \"Gradient Boosting\")\n",
        "\n",
        "# C4.5 Decision Tree\n",
        "display_feature_importance(c45_tree, \"C4.5 Decision Tree\")\n"
      ],
      "metadata": {
        "colab": {
          "base_uri": "https://localhost:8080/"
        },
        "id": "ykgnNP57d8M6",
        "outputId": "40ad3533-bc9a-49eb-9e00-fb0aee6fb1d3"
      },
      "execution_count": null,
      "outputs": [
        {
          "output_type": "stream",
          "name": "stdout",
          "text": [
            "Top Features by Importance in Random Forest:\n",
            "                        Feature  Importance\n",
            "3               Survival Months    0.553330\n",
            "0                           Age    0.159281\n",
            "1                    Tumor Size    0.124121\n",
            "2         Reginol Node Positive    0.054234\n",
            "9  Progesterone Status_Positive    0.030308\n",
            "\n",
            "\n",
            "Top Features by Importance in Gradient Boosting:\n",
            "                        Feature  Importance\n",
            "3               Survival Months    0.710895\n",
            "0                           Age    0.106226\n",
            "1                    Tumor Size    0.058949\n",
            "2         Reginol Node Positive    0.040271\n",
            "9  Progesterone Status_Positive    0.032136\n",
            "\n",
            "\n",
            "Top Features by Importance in C4.5 Decision Tree:\n",
            "                    Feature  Importance\n",
            "3           Survival Months    0.452935\n",
            "0                       Age    0.235582\n",
            "1                Tumor Size    0.139768\n",
            "2     Reginol Node Positive    0.072460\n",
            "8  Estrogen Status_Positive    0.027236\n",
            "\n",
            "\n"
          ]
        }
      ]
    },
    {
      "cell_type": "markdown",
      "source": [
        "# Simple Multi-Layer Perceptron (MLP)"
      ],
      "metadata": {
        "id": "e4FytiYyeWVG"
      }
    },
    {
      "cell_type": "markdown",
      "source": [
        "### It can achieve high accuracy on structured/tabular data."
      ],
      "metadata": {
        "id": "6XaH6S-CeXOV"
      }
    },
    {
      "cell_type": "code",
      "source": [
        "from sklearn.neural_network import MLPClassifier\n",
        "\n",
        "# Instantiate the MLP model\n",
        "mlp = MLPClassifier(hidden_layer_sizes=(50, 30), activation='relu', solver='adam', max_iter=500, random_state=42)\n",
        "\n",
        "# Fit the model to the training data\n",
        "mlp.fit(X_train, y_train)\n",
        "\n",
        "# Make predictions on the test set\n",
        "mlp_predictions = mlp.predict(X_test)\n",
        "\n",
        "# Evaluate the accuracy\n",
        "mlp_accuracy = accuracy_score(y_test, mlp_predictions)\n",
        "print(f\"Neural Network Accuracy: {mlp_accuracy * 100:.2f}%\")\n"
      ],
      "metadata": {
        "colab": {
          "base_uri": "https://localhost:8080/"
        },
        "id": "BuKkoW4aebbm",
        "outputId": "9512b21a-4686-4f76-fc2e-1f6ff219a42f"
      },
      "execution_count": null,
      "outputs": [
        {
          "output_type": "stream",
          "name": "stdout",
          "text": [
            "Neural Network Accuracy: 92.16%\n"
          ]
        }
      ]
    },
    {
      "cell_type": "markdown",
      "source": [
        "## Hyperparameter Tuning for Random Forest"
      ],
      "metadata": {
        "id": "eon580Yde0wr"
      }
    },
    {
      "cell_type": "code",
      "source": [
        "from sklearn.model_selection import GridSearchCV\n",
        "from sklearn.ensemble import RandomForestClassifier\n",
        "\n",
        "# Define the hyperparameter grid for Random Forest\n",
        "rf_param_grid = {\n",
        "    'n_estimators': [50, 100, 150],         # Number of trees\n",
        "    'max_depth': [None, 10, 20, 30],        # Depth of each tree\n",
        "    'min_samples_split': [2, 5, 10]         # Minimum samples to split a node\n",
        "}\n",
        "\n",
        "# Initialize the Random Forest model\n",
        "rf_model = RandomForestClassifier(random_state=42)\n",
        "\n",
        "# Set up Grid Search\n",
        "rf_grid_search = GridSearchCV(estimator=rf_model, param_grid=rf_param_grid, cv=5, scoring='accuracy', n_jobs=-1)\n",
        "\n",
        "# Fit the Grid Search to the data\n",
        "rf_grid_search.fit(X_train, y_train)\n",
        "\n",
        "# Print best parameters and best score\n",
        "print(\"Best Hyperparameters for Random Forest:\", rf_grid_search.best_params_)\n",
        "print(\"Best Accuracy for Random Forest:\", rf_grid_search.best_score_)\n"
      ],
      "metadata": {
        "colab": {
          "base_uri": "https://localhost:8080/"
        },
        "id": "yxxOshyVe2CX",
        "outputId": "733eb507-a0fa-486b-f88f-b529c241079d"
      },
      "execution_count": null,
      "outputs": [
        {
          "output_type": "stream",
          "name": "stdout",
          "text": [
            "Best Hyperparameters for Random Forest: {'max_depth': 10, 'min_samples_split': 5, 'n_estimators': 100}\n",
            "Best Accuracy for Random Forest: 0.919755209990455\n"
          ]
        }
      ]
    },
    {
      "cell_type": "markdown",
      "source": [
        "## Hyperparameter Tuning for Neural Network"
      ],
      "metadata": {
        "id": "e564ZavjfNp_"
      }
    },
    {
      "cell_type": "code",
      "source": [
        "from sklearn.neural_network import MLPClassifier\n",
        "\n",
        "# Define the hyperparameter grid for Neural Network\n",
        "nn_param_grid = {\n",
        "    'hidden_layer_sizes': [(50,), (50, 30), (100, 50)],  # Different layer configurations\n",
        "    'learning_rate_init': [0.001, 0.01, 0.1],            # Initial learning rate\n",
        "    'activation': ['relu', 'tanh']                       # Activation function\n",
        "}\n",
        "\n",
        "# Initialize the MLPClassifier\n",
        "nn_model = MLPClassifier(max_iter=500, random_state=42)\n",
        "\n",
        "# Set up Grid Search\n",
        "nn_grid_search = GridSearchCV(estimator=nn_model, param_grid=nn_param_grid, cv=5, scoring='accuracy', n_jobs=-1)\n",
        "\n",
        "# Fit the Grid Search to the data\n",
        "nn_grid_search.fit(X_train, y_train)\n",
        "\n",
        "# Print best parameters and best score\n",
        "print(\"Best Hyperparameters for Neural Network:\", nn_grid_search.best_params_)\n",
        "print(\"Best Accuracy for Neural Network:\", nn_grid_search.best_score_)\n"
      ],
      "metadata": {
        "colab": {
          "base_uri": "https://localhost:8080/"
        },
        "id": "KV1kD0QWe33C",
        "outputId": "3ef603e6-dd8f-4b53-fcef-37c24f97b306"
      },
      "execution_count": null,
      "outputs": [
        {
          "output_type": "stream",
          "name": "stdout",
          "text": [
            "Best Hyperparameters for Neural Network: {'activation': 'relu', 'hidden_layer_sizes': (100, 50), 'learning_rate_init': 0.1}\n",
            "Best Accuracy for Neural Network: 0.9126222955774738\n"
          ]
        }
      ]
    },
    {
      "cell_type": "code",
      "source": [
        "import pandas as pd\n",
        "from sklearn.metrics import accuracy_score\n",
        "\n",
        "# Calculate accuracy for each model\n",
        "knn_accuracy = accuracy_score(y_test, predictions) * 100\n",
        "nb_accuracy = accuracy_score(y_test, nb_predictions) * 100\n",
        "c45_accuracy = accuracy_score(y_test, c45_predictions) * 100\n",
        "rf_accuracy = rf_grid_search.best_score_ * 100\n",
        "gb_accuracy = accuracy_score(y_test, gb_predictions) * 100\n",
        "mlp_accuracy = nn_grid_search.best_score_ * 100\n",
        "\n",
        "# Define best hyperparameters and feature importance for each model\n",
        "results_data = {\n",
        "    \"Model\": [\n",
        "        \"K-Nearest Neighbors\",\n",
        "        \"Naive Bayes\",\n",
        "        \"C4.5 Decision Tree\",\n",
        "        \"Random Forest\",\n",
        "        \"Gradient Boosting\",\n",
        "        \"Neural Network\"\n",
        "    ],\n",
        "    \"Accuracy (%)\": [\n",
        "        knn_accuracy,\n",
        "        nb_accuracy,\n",
        "        c45_accuracy,\n",
        "        rf_accuracy,\n",
        "        gb_accuracy,\n",
        "        mlp_accuracy\n",
        "    ],\n",
        "}\n",
        "\n",
        "# Create DataFrame\n",
        "results_df = pd.DataFrame(results_data)\n",
        "\n",
        "# Display the results\n",
        "print(\"Model Performance Summary Table:\")\n",
        "print(results_df)\n"
      ],
      "metadata": {
        "colab": {
          "base_uri": "https://localhost:8080/"
        },
        "id": "3QdGk9Abnb8b",
        "outputId": "2843c890-72e9-491c-f315-8f794ecfffd9"
      },
      "execution_count": null,
      "outputs": [
        {
          "output_type": "stream",
          "name": "stdout",
          "text": [
            "Model Performance Summary Table:\n",
            "                 Model  Accuracy (%)\n",
            "0  K-Nearest Neighbors     91.800357\n",
            "1          Naive Bayes     84.135472\n",
            "2   C4.5 Decision Tree     84.848485\n",
            "3        Random Forest     91.975521\n",
            "4    Gradient Boosting     92.156863\n",
            "5       Neural Network     91.262230\n"
          ]
        }
      ]
    }
  ]
}